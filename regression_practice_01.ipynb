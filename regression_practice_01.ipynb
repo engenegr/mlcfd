{
  "nbformat": 4,
  "nbformat_minor": 0,
  "metadata": {
    "colab": {
      "name": "Untitled0.ipynb",
      "version": "0.3.2",
      "provenance": [],
      "include_colab_link": true
    },
    "kernelspec": {
      "name": "python3",
      "display_name": "Python 3"
    }
  },
  "cells": [
    {
      "cell_type": "markdown",
      "metadata": {
        "id": "view-in-github",
        "colab_type": "text"
      },
      "source": [
        "<a href=\"https://colab.research.google.com/github/geonhong/mlcfd/blob/practice/regression_practice_01.ipynb\" target=\"_parent\"><img src=\"https://colab.research.google.com/assets/colab-badge.svg\" alt=\"Open In Colab\"/></a>"
      ]
    },
    {
      "cell_type": "markdown",
      "metadata": {
        "id": "eFlEzBXDPY-v",
        "colab_type": "text"
      },
      "source": [
        "## Regression ##"
      ]
    },
    {
      "cell_type": "code",
      "metadata": {
        "id": "RohQVuEQPdWz",
        "colab_type": "code",
        "outputId": "7bbd4b89-ecf9-4348-9209-0fea006d7cc4",
        "colab": {
          "base_uri": "https://localhost:8080/",
          "height": 51
        }
      },
      "source": [
        "from keras.datasets import boston_housing\n",
        "\n",
        "(train_data, train_targets), (test_data, test_targets) = boston_housing.load_data()\n",
        "\n",
        "print(train_data.shape)\n",
        "print(train_targets.shape)"
      ],
      "execution_count": 2,
      "outputs": [
        {
          "output_type": "stream",
          "text": [
            "(404, 13)\n",
            "(404,)\n"
          ],
          "name": "stdout"
        }
      ]
    }
  ]
}